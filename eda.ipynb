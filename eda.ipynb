{
 "cells": [
  {
   "cell_type": "code",
   "execution_count": 1,
   "metadata": {},
   "outputs": [],
   "source": [
    "import pandas as pd"
   ]
  },
  {
   "cell_type": "code",
   "execution_count": 7,
   "metadata": {},
   "outputs": [],
   "source": [
    "plans= pd.read_json('plans.jsonlines', lines = True)\n",
    "simulation= pd.read_json('simulation.jsonlines', lines = True)\n",
    "positions= pd.read_json('positions.jsonlines', lines = True)"
   ]
  },
  {
   "cell_type": "code",
   "execution_count": 8,
   "metadata": {},
   "outputs": [
    {
     "data": {
      "text/html": [
       "<div>\n",
       "<style scoped>\n",
       "    .dataframe tbody tr th:only-of-type {\n",
       "        vertical-align: middle;\n",
       "    }\n",
       "\n",
       "    .dataframe tbody tr th {\n",
       "        vertical-align: top;\n",
       "    }\n",
       "\n",
       "    .dataframe thead th {\n",
       "        text-align: right;\n",
       "    }\n",
       "</style>\n",
       "<table border=\"1\" class=\"dataframe\">\n",
       "  <thead>\n",
       "    <tr style=\"text-align: right;\">\n",
       "      <th></th>\n",
       "      <th>items</th>\n",
       "      <th>simulationId</th>\n",
       "      <th>trucks</th>\n",
       "    </tr>\n",
       "  </thead>\n",
       "  <tbody>\n",
       "    <tr>\n",
       "      <th>0</th>\n",
       "      <td>[{'itemId': '0', 'locationId': '326ae8dc7810de...</td>\n",
       "      <td>2f6737c6-8d69-46b9-9534-68ffa2e7f7ad</td>\n",
       "      <td>[{'items': ['23', '24', '4', '25', '26', '27',...</td>\n",
       "    </tr>\n",
       "    <tr>\n",
       "      <th>1</th>\n",
       "      <td>[{'itemId': '0', 'locationId': '265a9178c2d6ca...</td>\n",
       "      <td>3fab69b5-fecc-4baa-b402-7da59b6bb23b</td>\n",
       "      <td>[{'items': ['8', '9', '10', '31', '32', '27', ...</td>\n",
       "    </tr>\n",
       "    <tr>\n",
       "      <th>2</th>\n",
       "      <td>[{'itemId': '0', 'locationId': '70b866cac59186...</td>\n",
       "      <td>89e71177-6a7b-41eb-858a-ecaf434fdd8b</td>\n",
       "      <td>[{'items': ['33', '34', '35', '64', '65', '66'...</td>\n",
       "    </tr>\n",
       "    <tr>\n",
       "      <th>3</th>\n",
       "      <td>[{'itemId': '0', 'locationId': 'f3367090a09140...</td>\n",
       "      <td>d4bef456-20a5-440e-94f5-eb6957479158</td>\n",
       "      <td>[{'items': ['72', '73', '74', '75', '31', '32'...</td>\n",
       "    </tr>\n",
       "    <tr>\n",
       "      <th>4</th>\n",
       "      <td>[{'itemId': '0', 'locationId': '86b0c901cebbf4...</td>\n",
       "      <td>e825e855-b32f-42d2-a84a-e2211b88a90a</td>\n",
       "      <td>[{'items': ['83', '84', '65', '66', '60', '57'...</td>\n",
       "    </tr>\n",
       "  </tbody>\n",
       "</table>\n",
       "</div>"
      ],
      "text/plain": [
       "                                               items  \\\n",
       "0  [{'itemId': '0', 'locationId': '326ae8dc7810de...   \n",
       "1  [{'itemId': '0', 'locationId': '265a9178c2d6ca...   \n",
       "2  [{'itemId': '0', 'locationId': '70b866cac59186...   \n",
       "3  [{'itemId': '0', 'locationId': 'f3367090a09140...   \n",
       "4  [{'itemId': '0', 'locationId': '86b0c901cebbf4...   \n",
       "\n",
       "                           simulationId  \\\n",
       "0  2f6737c6-8d69-46b9-9534-68ffa2e7f7ad   \n",
       "1  3fab69b5-fecc-4baa-b402-7da59b6bb23b   \n",
       "2  89e71177-6a7b-41eb-858a-ecaf434fdd8b   \n",
       "3  d4bef456-20a5-440e-94f5-eb6957479158   \n",
       "4  e825e855-b32f-42d2-a84a-e2211b88a90a   \n",
       "\n",
       "                                              trucks  \n",
       "0  [{'items': ['23', '24', '4', '25', '26', '27',...  \n",
       "1  [{'items': ['8', '9', '10', '31', '32', '27', ...  \n",
       "2  [{'items': ['33', '34', '35', '64', '65', '66'...  \n",
       "3  [{'items': ['72', '73', '74', '75', '31', '32'...  \n",
       "4  [{'items': ['83', '84', '65', '66', '60', '57'...  "
      ]
     },
     "execution_count": 8,
     "metadata": {},
     "output_type": "execute_result"
    }
   ],
   "source": [
    "plans.head()"
   ]
  },
  {
   "cell_type": "code",
   "execution_count": 9,
   "metadata": {},
   "outputs": [
    {
     "data": {
      "text/html": [
       "<div>\n",
       "<style scoped>\n",
       "    .dataframe tbody tr th:only-of-type {\n",
       "        vertical-align: middle;\n",
       "    }\n",
       "\n",
       "    .dataframe tbody tr th {\n",
       "        vertical-align: top;\n",
       "    }\n",
       "\n",
       "    .dataframe thead th {\n",
       "        text-align: right;\n",
       "    }\n",
       "</style>\n",
       "<table border=\"1\" class=\"dataframe\">\n",
       "  <thead>\n",
       "    <tr style=\"text-align: right;\">\n",
       "      <th></th>\n",
       "      <th>coordinates</th>\n",
       "      <th>eventTime</th>\n",
       "      <th>simulationId</th>\n",
       "      <th>truckId</th>\n",
       "    </tr>\n",
       "  </thead>\n",
       "  <tbody>\n",
       "    <tr>\n",
       "      <th>0</th>\n",
       "      <td>{'latitude': 40.427665, 'longitude': -3.704073}</td>\n",
       "      <td>5760</td>\n",
       "      <td>a2bfd344-3b14-462a-82e7-d42aca54a650</td>\n",
       "      <td>1669HSZ</td>\n",
       "    </tr>\n",
       "    <tr>\n",
       "      <th>1</th>\n",
       "      <td>{'latitude': 40.42766521385369, 'longitude': -...</td>\n",
       "      <td>5760</td>\n",
       "      <td>a2bfd344-3b14-462a-82e7-d42aca54a650</td>\n",
       "      <td>8809GPH</td>\n",
       "    </tr>\n",
       "    <tr>\n",
       "      <th>2</th>\n",
       "      <td>{'latitude': 40.427665, 'longitude': -3.704073}</td>\n",
       "      <td>5730</td>\n",
       "      <td>a2bfd344-3b14-462a-82e7-d42aca54a650</td>\n",
       "      <td>1161GJN</td>\n",
       "    </tr>\n",
       "    <tr>\n",
       "      <th>3</th>\n",
       "      <td>{'latitude': 40.427665233683996, 'longitude': ...</td>\n",
       "      <td>5340</td>\n",
       "      <td>a2bfd344-3b14-462a-82e7-d42aca54a650</td>\n",
       "      <td>2423VRT</td>\n",
       "    </tr>\n",
       "    <tr>\n",
       "      <th>4</th>\n",
       "      <td>{'latitude': 40.427665, 'longitude': -3.704073}</td>\n",
       "      <td>5460</td>\n",
       "      <td>a2bfd344-3b14-462a-82e7-d42aca54a650</td>\n",
       "      <td>3321FBL</td>\n",
       "    </tr>\n",
       "  </tbody>\n",
       "</table>\n",
       "</div>"
      ],
      "text/plain": [
       "                                         coordinates  eventTime  \\\n",
       "0    {'latitude': 40.427665, 'longitude': -3.704073}       5760   \n",
       "1  {'latitude': 40.42766521385369, 'longitude': -...       5760   \n",
       "2    {'latitude': 40.427665, 'longitude': -3.704073}       5730   \n",
       "3  {'latitude': 40.427665233683996, 'longitude': ...       5340   \n",
       "4    {'latitude': 40.427665, 'longitude': -3.704073}       5460   \n",
       "\n",
       "                           simulationId  truckId  \n",
       "0  a2bfd344-3b14-462a-82e7-d42aca54a650  1669HSZ  \n",
       "1  a2bfd344-3b14-462a-82e7-d42aca54a650  8809GPH  \n",
       "2  a2bfd344-3b14-462a-82e7-d42aca54a650  1161GJN  \n",
       "3  a2bfd344-3b14-462a-82e7-d42aca54a650  2423VRT  \n",
       "4  a2bfd344-3b14-462a-82e7-d42aca54a650  3321FBL  "
      ]
     },
     "execution_count": 9,
     "metadata": {},
     "output_type": "execute_result"
    }
   ],
   "source": [
    "positions.head()"
   ]
  },
  {
   "cell_type": "code",
   "execution_count": 10,
   "metadata": {},
   "outputs": [
    {
     "data": {
      "text/html": [
       "<div>\n",
       "<style scoped>\n",
       "    .dataframe tbody tr th:only-of-type {\n",
       "        vertical-align: middle;\n",
       "    }\n",
       "\n",
       "    .dataframe tbody tr th {\n",
       "        vertical-align: top;\n",
       "    }\n",
       "\n",
       "    .dataframe thead th {\n",
       "        text-align: right;\n",
       "    }\n",
       "</style>\n",
       "<table border=\"1\" class=\"dataframe\">\n",
       "  <thead>\n",
       "    <tr style=\"text-align: right;\">\n",
       "      <th></th>\n",
       "      <th>eventDescription</th>\n",
       "      <th>eventTime</th>\n",
       "      <th>eventType</th>\n",
       "      <th>simulationId</th>\n",
       "      <th>truckId</th>\n",
       "    </tr>\n",
       "  </thead>\n",
       "  <tbody>\n",
       "    <tr>\n",
       "      <th>0</th>\n",
       "      <td>(plaza del Dos de Mayo, 6, Madrid, [-3.7041862...</td>\n",
       "      <td>5760</td>\n",
       "      <td>Truck departed</td>\n",
       "      <td>a2bfd344-3b14-462a-82e7-d42aca54a650</td>\n",
       "      <td>1669HSZ</td>\n",
       "    </tr>\n",
       "    <tr>\n",
       "      <th>1</th>\n",
       "      <td>(plaza del Dos de Mayo, 6, Madrid, [-3.7041862...</td>\n",
       "      <td>5730</td>\n",
       "      <td>Truck departed</td>\n",
       "      <td>a2bfd344-3b14-462a-82e7-d42aca54a650</td>\n",
       "      <td>8809GPH</td>\n",
       "    </tr>\n",
       "    <tr>\n",
       "      <th>2</th>\n",
       "      <td>(plaza del Dos de Mayo, 6, Madrid, [-3.7041862...</td>\n",
       "      <td>5730</td>\n",
       "      <td>Truck departed</td>\n",
       "      <td>a2bfd344-3b14-462a-82e7-d42aca54a650</td>\n",
       "      <td>1161GJN</td>\n",
       "    </tr>\n",
       "    <tr>\n",
       "      <th>3</th>\n",
       "      <td>(plaza del Dos de Mayo, 6, Madrid, [-3.7041862...</td>\n",
       "      <td>5430</td>\n",
       "      <td>Truck departed</td>\n",
       "      <td>a2bfd344-3b14-462a-82e7-d42aca54a650</td>\n",
       "      <td>3321FBL</td>\n",
       "    </tr>\n",
       "    <tr>\n",
       "      <th>4</th>\n",
       "      <td>(plaza del Dos de Mayo, 6, Madrid, [-3.7041862...</td>\n",
       "      <td>5310</td>\n",
       "      <td>Truck departed</td>\n",
       "      <td>a2bfd344-3b14-462a-82e7-d42aca54a650</td>\n",
       "      <td>2423VRT</td>\n",
       "    </tr>\n",
       "  </tbody>\n",
       "</table>\n",
       "</div>"
      ],
      "text/plain": [
       "                                    eventDescription  eventTime  \\\n",
       "0  (plaza del Dos de Mayo, 6, Madrid, [-3.7041862...       5760   \n",
       "1  (plaza del Dos de Mayo, 6, Madrid, [-3.7041862...       5730   \n",
       "2  (plaza del Dos de Mayo, 6, Madrid, [-3.7041862...       5730   \n",
       "3  (plaza del Dos de Mayo, 6, Madrid, [-3.7041862...       5430   \n",
       "4  (plaza del Dos de Mayo, 6, Madrid, [-3.7041862...       5310   \n",
       "\n",
       "        eventType                          simulationId  truckId  \n",
       "0  Truck departed  a2bfd344-3b14-462a-82e7-d42aca54a650  1669HSZ  \n",
       "1  Truck departed  a2bfd344-3b14-462a-82e7-d42aca54a650  8809GPH  \n",
       "2  Truck departed  a2bfd344-3b14-462a-82e7-d42aca54a650  1161GJN  \n",
       "3  Truck departed  a2bfd344-3b14-462a-82e7-d42aca54a650  3321FBL  \n",
       "4  Truck departed  a2bfd344-3b14-462a-82e7-d42aca54a650  2423VRT  "
      ]
     },
     "execution_count": 10,
     "metadata": {},
     "output_type": "execute_result"
    }
   ],
   "source": [
    "simulation.head()"
   ]
  },
  {
   "cell_type": "code",
   "execution_count": 21,
   "metadata": {},
   "outputs": [
    {
     "data": {
      "text/plain": [
       "19"
      ]
     },
     "execution_count": 21,
     "metadata": {},
     "output_type": "execute_result"
    }
   ],
   "source": [
    "len(simulation['truckId'].unique())\n"
   ]
  },
  {
   "cell_type": "code",
   "execution_count": 29,
   "metadata": {},
   "outputs": [
    {
     "data": {
      "text/plain": [
       "items\n",
       "110fa557196f4977f47ee8a8    31\n",
       "794ef428d858678e69ec18f4    26\n",
       "544dc8cb8104ca9be64e088e    24\n",
       "3163705e2e4c79485482b907    24\n",
       "6e6eb4d6c2908b30c625409c    23\n",
       "                            ..\n",
       "4deded792e86bb693cbadcfb     1\n",
       "204d0aeb4d7e970e7c666ad3     1\n",
       "90b1028aa5e15b655f0555cc     1\n",
       "108d73f1b880fab03892ef2b     1\n",
       "4f0da2e66523bd8b7b6e2804     1\n",
       "Name: count, Length: 2637, dtype: int64"
      ]
     },
     "execution_count": 29,
     "metadata": {},
     "output_type": "execute_result"
    }
   ],
   "source": [
    "plans['items'].explode().apply(lambda x: x['locationId']).value_counts()\n"
   ]
  },
  {
   "cell_type": "code",
   "execution_count": 32,
   "metadata": {},
   "outputs": [
    {
     "data": {
      "text/plain": [
       "14546"
      ]
     },
     "execution_count": 32,
     "metadata": {},
     "output_type": "execute_result"
    }
   ],
   "source": [
    "len(simulation['eventDescription'].unique())"
   ]
  },
  {
   "cell_type": "code",
   "execution_count": 43,
   "metadata": {},
   "outputs": [
    {
     "data": {
      "text/plain": [
       "count    2.688700e+04\n",
       "mean     3.899651e+06\n",
       "std      2.753095e+06\n",
       "min      0.000000e+00\n",
       "25%      1.646640e+06\n",
       "50%      3.546720e+06\n",
       "75%      5.758320e+06\n",
       "max      1.568325e+07\n",
       "Name: eventTime, dtype: float64"
      ]
     },
     "execution_count": 43,
     "metadata": {},
     "output_type": "execute_result"
    }
   ],
   "source": [
    "simulation['eventTime'].describe()"
   ]
  },
  {
   "cell_type": "code",
   "execution_count": 47,
   "metadata": {},
   "outputs": [
    {
     "data": {
      "text/plain": [
       "truckId\n",
       "0013DYS    1790\n",
       "0184WLX      26\n",
       "0265TYL     172\n",
       "0781PZL     768\n",
       "1012GWV      16\n",
       "1161GJN      22\n",
       "1489WHW      42\n",
       "1669HSZ     138\n",
       "2423VRT     398\n",
       "3321FBL    4814\n",
       "3953RLD    4031\n",
       "5030LXK    2870\n",
       "5534TPH    5134\n",
       "6270NFM    2822\n",
       "6965XLY    1212\n",
       "8327DZH      80\n",
       "8386WZB     916\n",
       "8809GPH     212\n",
       "9593DXM    1424\n",
       "Name: eventDescription, dtype: int64"
      ]
     },
     "execution_count": 47,
     "metadata": {},
     "output_type": "execute_result"
    }
   ],
   "source": [
    "simulation.groupby('truckId')['eventDescription'].count()"
   ]
  },
  {
   "cell_type": "code",
   "execution_count": 61,
   "metadata": {},
   "outputs": [],
   "source": [
    "for plan in plans['items']:\n",
    "    for item in plan:\n",
    "        len(item)\n"
   ]
  },
  {
   "cell_type": "code",
   "execution_count": null,
   "metadata": {},
   "outputs": [],
   "source": []
  }
 ],
 "metadata": {
  "kernelspec": {
   "display_name": "Python 3",
   "language": "python",
   "name": "python3"
  },
  "language_info": {
   "codemirror_mode": {
    "name": "ipython",
    "version": 3
   },
   "file_extension": ".py",
   "mimetype": "text/x-python",
   "name": "python",
   "nbconvert_exporter": "python",
   "pygments_lexer": "ipython3",
   "version": "3.10.11"
  }
 },
 "nbformat": 4,
 "nbformat_minor": 2
}
